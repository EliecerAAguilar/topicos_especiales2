{
 "nbformat": 4,
 "nbformat_minor": 0,
 "metadata": {
  "colab": {
   "name": "Tarea#1 Template.ipynb",
   "provenance": [],
   "collapsed_sections": []
  },
  "kernelspec": {
   "name": "python3",
   "display_name": "Python 3"
  },
  "language_info": {
   "name": "python"
  }
 },
 "cells": [
  {
   "cell_type": "markdown",
   "metadata": {
    "id": "aiaBytcihPQK",
    "pycharm": {
     "name": "#%% md\n"
    }
   },
   "source": [
    "# Descargando paquetes requeridos para el Problema #1"
   ]
  },
  {
   "cell_type": "code",
   "metadata": {
    "colab": {
     "base_uri": "https://localhost:8080/"
    },
    "id": "ogVeQwuVaX8B",
    "outputId": "baab863c-9a21-4f9e-ec71-054abe605ba8",
    "pycharm": {
     "name": "#%%\n"
    }
   },
   "source": [
    "# !sudo add-apt-repository ppa:zero-tsuki/ppa -y\n",
    "# !sudo apt-get update -y\n",
    "# !sudo apt-get install libapngasm\n",
    "# !sudo apt-get install apngasm\n",
    "!sudo apt-get install apng2gif"
   ],
   "execution_count": 7,
   "outputs": [
    {
     "output_type": "stream",
     "text": [
      "Reading package lists... Done\n",
      "Building dependency tree       \n",
      "Reading state information... Done\n",
      "The following package was automatically installed and is no longer required:\n",
      "  libnvidia-common-460\n",
      "Use 'sudo apt autoremove' to remove it.\n",
      "The following NEW packages will be installed:\n",
      "  apng2gif\n",
      "0 upgraded, 1 newly installed, 0 to remove and 77 not upgraded.\n",
      "Need to get 18.9 kB of archives.\n",
      "After this operation, 49.2 kB of additional disk space will be used.\n",
      "Get:1 http://archive.ubuntu.com/ubuntu bionic/universe amd64 apng2gif amd64 1.7-1 [18.9 kB]\n",
      "Fetched 18.9 kB in 0s (44.7 kB/s)\n",
      "debconf: unable to initialize frontend: Dialog\n",
      "debconf: (No usable dialog-like program is installed, so the dialog based frontend cannot be used. at /usr/share/perl5/Debconf/FrontEnd/Dialog.pm line 76, <> line 1.)\n",
      "debconf: falling back to frontend: Readline\n",
      "debconf: unable to initialize frontend: Readline\n",
      "debconf: (This frontend requires a controlling tty.)\n",
      "debconf: falling back to frontend: Teletype\n",
      "dpkg-preconfigure: unable to re-open stdin: \n",
      "Selecting previously unselected package apng2gif.\n",
      "(Reading database ... 160704 files and directories currently installed.)\n",
      "Preparing to unpack .../apng2gif_1.7-1_amd64.deb ...\n",
      "Unpacking apng2gif (1.7-1) ...\n",
      "Setting up apng2gif (1.7-1) ...\n",
      "Processing triggers for man-db (2.8.3-2ubuntu0.1) ...\n"
     ],
     "name": "stdout"
    }
   ]
  },
  {
   "cell_type": "code",
   "metadata": {
    "colab": {
     "base_uri": "https://localhost:8080/"
    },
    "id": "GSo-eHeBa59K",
    "outputId": "f3745bb3-0c2c-4921-e4da-9652a72a2540",
    "pycharm": {
     "name": "#%%\n"
    }
   },
   "source": [
    "!apngasm --help\n",
    "!apng2gif --help\n",
    "\n"
   ],
   "execution_count": 8,
   "outputs": [
    {
     "output_type": "stream",
     "text": [
      "\n",
      "apng2gif 1.7\n",
      "\n",
      "Usage : apng2gif anim.png [anim.gif] [-t tlevel] [-b bcolor]\n",
      "\n",
      "tlevel: transparency threshold level (format: -t 128)\n",
      "bcolor: background blend color (format: -b \"#808080\" or -b 128 128 128)\n",
      "When -b is used, -t is ignored. Default is -t 128, no bcolor.\n"
     ],
     "name": "stdout"
    }
   ]
  },
  {
   "cell_type": "code",
   "metadata": {
    "colab": {
     "base_uri": "https://localhost:8080/"
    },
    "id": "HPDbTNsQcfMB",
    "outputId": "6b23f1ee-76ab-4058-cddb-99f420144493",
    "pycharm": {
     "name": "#%%\n"
    }
   },
   "source": [],
   "execution_count": 6,
   "outputs": [
    {
     "output_type": "stream",
     "text": [
      "/bin/bash: apng2gif: command not found\n"
     ],
     "name": "stdout"
    }
   ]
  }
 ]
}