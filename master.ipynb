{
 "cells": [
  {
   "cell_type": "markdown",
   "source": [
    "# Problema # 1"
   ],
   "metadata": {
    "collapsed": false,
    "pycharm": {
     "name": "#%% md\n"
    }
   }
  },
  {
   "cell_type": "markdown",
   "source": [
    "El formato de archivo Animated Portable Network Graphics (APNG) es una extensión de la especificación Portable Network Graphics (PNG). Permite archivos PNG animados que funcionan de manera similar a los archivos GIF animados, pero es superior a GIF ya que permite el uso de imágenes de 24 bits y una transparencia de 8 bits y todo esto sin perder la compatibilidad con archivos PNG no animados o normales. Esto se logra haciendo que el primer cuadro de un archivo APNG se almacena como una secuencia PNG normal, por lo que la mayoría de los decodificadores PNG estándar pueden al menos mostrar el primer cuadro de un archivo APNG. Los datos de velocidad de fotogramas y los fotogramas de animación adicionales se almacenan en fragmentos adicionales como se ve en la figura abajo"
   ],
   "metadata": {
    "collapsed": false,
    "pycharm": {
     "name": "#%% md\n"
    }
   }
  },
  {
   "cell_type": "markdown",
   "source": [
    "![diagrama](imgs_prob/diag-apng01.png)"
   ],
   "metadata": {
    "collapsed": false,
    "pycharm": {
     "name": "#%% md\n"
    }
   }
  },
  {
   "cell_type": "markdown",
   "source": [
    "APNG compite con los gráficos de red de imágenes múltiples (MNG), un formato integral para animaciones de mapa de bits creado por el mismo equipo que PNG. La ventaja de APNG es el tamaño de biblioteca más pequeño y la compatibilidad con implementaciones PNG más antiguas. Como dato interesante, en 2016, Apple lo adoptó como el formato preferido para los stickers animadas en aplicaciones iOS 10 iMessage"
   ],
   "metadata": {
    "collapsed": false,
    "pycharm": {
     "name": "#%% md\n"
    }
   }
  },
  {
   "cell_type": "markdown",
   "source": [
    "En este problema trabajaremos con imágenes APNG Assembler (<a href=\"https://github.com/apngasm/apngasm\" target=\"_blank\">https://github.com/apngasm/apngasm</a>), que se instala en el primer paso del notebook **Template_Tarea #1**."
   ],
   "metadata": {
    "collapsed": false,
    "pycharm": {
     "name": "#%% md\n"
    }
   }
  },
  {
   "cell_type": "markdown",
   "source": [
    "Realice un script en Bash llamado variasfunciones.sh, que inicialmente despliegue como un menú varias opciones para trabajar sobre un directorio de imágenes pasados como una ruta (path) a los argumentos del script.Se requiere que el menú tenga las siguientes opciones:"
   ],
   "metadata": {
    "collapsed": false,
    "pycharm": {
     "name": "#%% md\n"
    }
   }
  },
  {
   "cell_type": "markdown",
   "source": [
    "a) **Verificar**: Verifica el directorio donde se alojan las imágenes liste con un ciclo for cada uno de los elementos el directorio e imprima la cantidad de bytes que ocupa cada archivo. Debe comprobar que el usuario realmente paso una ruta a un directorio y que el directorio existe, (que la ruta es valida) y que los archivos son extensión .PNG, en caso de que esto no se cumpla debe mandar mensajes al usuario."
   ],
   "metadata": {
    "collapsed": false,
    "pycharm": {
     "name": "#%% md\n"
    }
   }
  },
  {
   "cell_type": "markdown",
   "source": [
    "![apngasm_usage](imgs_prob/apngasm-usage.png)"
   ],
   "metadata": {
    "collapsed": false,
    "pycharm": {
     "name": "#%% md\n"
    }
   }
  },
  {
   "cell_type": "markdown",
   "source": [
    "b) **Ensamblar**:\tutiliza\tlas\timágenes\tsuplidas\tpara\tcrear\tun\tarchivo\ten\tformato\tAPNG,\tpara\testo\tse\tdebe\tusar\tel\tAPNG\tAssembler\t(apngasm).\t\tEste\tcomando\ttiene\tel\tsiguiente\tuso\ty\topciones:"
   ],
   "metadata": {
    "collapsed": false,
    "pycharm": {
     "name": "#%% md\n"
    }
   }
  },
  {
   "cell_type": "markdown",
   "source": [
    "![apng2gif-usage](imgs_prob/apng2gif-usage.png)"
   ],
   "metadata": {
    "collapsed": false,
    "pycharm": {
     "name": "#%% md\n"
    }
   }
  },
  {
   "cell_type": "markdown",
   "source": [
    "El usuario debe poder ingresar tanto el nombre del archivo de saluda (output.png), el retraso o delay (2 números) y como tercer argumento la cantidad de ciclos que quiere animar (1 numero). Con esta información su script debe llamar al programa apngasm y ejecutarlo con los parámetros correspondientes."
   ],
   "metadata": {
    "collapsed": false,
    "pycharm": {
     "name": "#%% md\n"
    }
   }
  },
  {
   "cell_type": "markdown",
   "source": [
    "c) **Crear un GIF**: utilizando la imagen creada en el punto b y utilizando el programa apng2gif, cree una versión .GIF de la imagen APNG. Este comando tiene el siguiente uso y opciones (puede dejar las opciones por defecto):"
   ],
   "metadata": {
    "collapsed": false,
    "pycharm": {
     "name": "#%% md\n"
    }
   }
  },
  {
   "cell_type": "markdown",
   "source": [],
   "metadata": {
    "collapsed": false,
    "pycharm": {
     "name": "#%% md\n"
    }
   }
  },
  {
   "cell_type": "markdown",
   "source": [
    "Una vez tenga el menú creado:\n",
    "* Utilice las imágenes del archivo problema1.zip para crear un archivo APNG con las imágenes correspondientes. Haga una Captura de pantalla de la corrida del script.\n",
    "* Sobre un grupo de imágenes de su elección, y cree su versión en APNG, utilizando el menú arriba descrito. Queda a su criterio el tema de la animación, y la utilización del retraso (delay) adecuado. Si encuentra una serie de imágenes de internet, favor citar o indicar la fuente.\n",
    "Finalmente usted debe:\n",
    "* Hacer una Captura de pantalla de su corrida con los parámetros que crea más convenientes.\n",
    "* adjunte el archivo final APNG en su entrega\n",
    "* Compare el tamaño en bytes de la representación en APNG y en GIF\n",
    "* Si es posible haga un video de su presentación en un navegador\n"
   ],
   "metadata": {
    "collapsed": false,
    "pycharm": {
     "name": "#%% md\n"
    }
   }
  },
  {
   "cell_type": "markdown",
   "source": [
    "## installacion de los componenetes necesarios"
   ],
   "metadata": {
    "collapsed": false,
    "pycharm": {
     "name": "#%% md\n"
    }
   }
  },
  {
   "cell_type": "code",
   "execution_count": 1,
   "metadata": {
    "collapsed": true,
    "pycharm": {
     "name": "#%%\n"
    }
   },
   "outputs": [
    {
     "name": "stdout",
     "output_type": "stream",
     "text": [
      "hello finally\n"
     ]
    }
   ],
   "source": [
    "!sudo add-apt-repository ppa:zero-tsuki/ppa -y\n",
    "!sudo apt-get update -y\n",
    "!sudo apt-get install libapngasm\n",
    "!sudo apt-get install apngasm\n",
    "!sudo apt-get install apng2gif"
   ]
  },
  {
   "cell_type": "markdown",
   "source": [
    "----------------------------------------------------------------------------"
   ],
   "metadata": {
    "collapsed": false,
    "pycharm": {
     "name": "#%% md\n"
    }
   }
  },
  {
   "cell_type": "code",
   "execution_count": null,
   "outputs": [],
   "source": [
    "print(\"code\")"
   ],
   "metadata": {
    "collapsed": false,
    "pycharm": {
     "name": "#%%\n"
    }
   }
  },
  {
   "cell_type": "markdown",
   "source": [
    "# Problema # 2"
   ],
   "metadata": {
    "collapsed": false,
    "pycharm": {
     "name": "#%% md\n"
    }
   }
  },
  {
   "cell_type": "markdown",
   "source": [
    "![tcl-trip-record-data](imgs_prob/tlc_trip_data.png)"
   ],
   "metadata": {
    "collapsed": false,
    "pycharm": {
     "name": "#%% md\n"
    }
   }
  },
  {
   "cell_type": "markdown",
   "source": [
    "* Descargue a su notebook utilizando wget el archivo yellow_tripdata_2019-12.csv 1 del New York City Taxi and Limousine Comission TLC Trip Record Data2, que contiene\n",
    "los registros de viajes realizados por los taxis “amarillos” en la ciudad de Nueva York en el mes de diciembre de 2019"
   ],
   "metadata": {
    "collapsed": false,
    "pycharm": {
     "name": "#%% md\n"
    }
   }
  },
  {
   "cell_type": "markdown",
   "source": [
    "* Obtenga los resultados que se le piden, utilizando la programación en AWK:"
   ],
   "metadata": {
    "collapsed": false,
    "pycharm": {
     "name": "#%% md\n"
    }
   }
  },
  {
   "cell_type": "markdown",
   "source": [
    "* Al ser un archivo tan grande notara que es difícil trabajarlo en procesadores de texto u hojas de cálculo, de modo que tocara abrirlo por partes o verificar su contenido poco a poco.\n",
    "1 Verifique cuantos registros tiene el archivo utilizando wc. También puede hacerlo utilizando la variable interna NR. Haga una captura de pantalla de su resultado.\n",
    "2 Verifique como es la cabecera del archivo y el final del archivo con head y tail respectivamente. Haga una captura de pantalla de su resultado.\n"
   ],
   "metadata": {
    "collapsed": false,
    "pycharm": {
     "name": "#%% md\n"
    }
   }
  },
  {
   "cell_type": "markdown",
   "source": [
    "* Identifique cuantos suplidores únicos existen, verifique la 1era columna VendorID. Compruebe que la suma de los registros de cada vendedor concuerda con el número total calculado arriba. Haga una captura de pantalla de su procesamiento"
   ],
   "metadata": {
    "collapsed": false,
    "pycharm": {
     "name": "#%% md\n"
    }
   }
  },
  {
   "cell_type": "markdown",
   "source": [
    "***\n",
    "Sugerencia: puede refinar su búsqueda utilizando el comando sort y la opción -u\n",
    "***"
   ],
   "metadata": {
    "collapsed": false,
    "pycharm": {
     "name": "#%% md\n"
    }
   }
  },
  {
   "cell_type": "markdown",
   "source": [
    "* La 4ta columna passenger_count representa el número de pasajeros en ese viaje, calcule usando AWK:\n",
    "    * La cantidad de viajes registrados que se hacen con un solo pasajero para todos los VendorId. Haga una captura de pantalla de su resultado.\n",
    "    * La cantidad de viajes registrados que se hacen con un más de un pasajero para todos los VendorId. Haga una captura de pantalla de su resultado.\n",
    "    * El promedio total de pasajeros con que se hacen estos viajes para el VendorID = 4. Haga una captura de pantalla de su resultado."
   ],
   "metadata": {
    "collapsed": false,
    "pycharm": {
     "name": "#%% md\n"
    }
   }
  },
  {
   "cell_type": "markdown",
   "source": [
    "***\n",
    "Sugerencia: puede trabajar solo con los registros del VendorID 4 en un archivo aparte\n",
    "***"
   ],
   "metadata": {
    "collapsed": false,
    "pycharm": {
     "name": "#%% md\n"
    }
   }
  },
  {
   "cell_type": "markdown",
   "source": [
    "* La 11ava columna fare_amount representa el costo del trayecto, usando AWK identifique los viajes que costaron arriba de $15 para todos los VendorID y haga una redirección a un archivo filtro15.txt."
   ],
   "metadata": {
    "collapsed": false,
    "pycharm": {
     "name": "#%% md\n"
    }
   }
  },
  {
   "cell_type": "markdown",
   "source": [
    "* Del archivo recién creado extraiga aquellos que son del VendorID=4, y haga una redirección a otro archivo llamado filtro154.txt"
   ],
   "metadata": {
    "collapsed": false,
    "pycharm": {
     "name": "#%% md\n"
    }
   }
  },
  {
   "cell_type": "markdown",
   "source": [
    "* Abra el archivo filtro154.txt en Excel y enfóquese en las columnas de fare_amount y trip_distance.\n",
    "    * Grafique el costo en función de la distancia. Haga una captura de pantalla de su resultado.\n",
    "    * Calcule el coeficiente de correlación de Pearson de ambas columnas con la función PEARSON(). Haga una captura de pantalla de su resultado.\n",
    "    * ¿Conteste las siguientes preguntas: ¿cómo es el comportamiento de los costos? ¿Están correlacionados con la distancia? ¿en que grado?\n"
   ],
   "metadata": {
    "collapsed": false,
    "pycharm": {
     "name": "#%% md\n"
    }
   }
  },
  {
   "cell_type": "markdown",
   "source": [
    "* Con el archivo filtro154.txt haga un tercer filtro en AWK, enfóquese en la columna congestion_surcharge, filtrando aquellos viajes que tienen sobrecargos (congestion_surcharge >0):\n",
    "** Enfóquese en la columna tpep_pickup_datetime y usando una expresión regular calcule el número de viajes que tienen sobrecargo en cada categoría de “horas pico” (6-8am, 12-13pm y 17-19pm) versus lo viajes que se hacen en otras horas “no pico”.\n",
    "** ¿Conteste la siguiente pregunta: ¿está ligado el sobrecosto a que el viaje se haga en hora pico?\n"
   ],
   "metadata": {
    "collapsed": false,
    "pycharm": {
     "name": "#%% md\n"
    }
   }
  },
  {
   "cell_type": "markdown",
   "source": [
    "***\n",
    "Sugerencia: verificar el uso de Expresiones Regulares con AWK acá:\n",
    "* <a href=\"https://www.math.utah.edu/docs/info/gawk_5.html\" target=\"_blank\">https://www.math.utah.edu/docs/info/gawk_5.html</a>\n",
    "* <a href=\"https://nyc-tlc.s3.amazonaws.com/trip+data/yellow_tripdata_2019-12.cs\" target=\"_blank\">https://nyc-tlc.s3.amazonaws.com/trip+data/yellow_tripdata_2019-12.csv</a>\n",
    "* <a href=\"https://www1.nyc.gov/site/tlc/about/tlc-trip-record-data.page\" target=\"_blank\">https://www1.nyc.gov/site/tlc/about/tlc-trip-record-data.page</a>\n",
    "***"
   ],
   "metadata": {
    "collapsed": false,
    "pycharm": {
     "name": "#%% md\n"
    }
   }
  },
  {
   "cell_type": "code",
   "execution_count": null,
   "outputs": [],
   "source": [
    "print(\"code\")"
   ],
   "metadata": {
    "collapsed": false,
    "pycharm": {
     "name": "#%%\n"
    }
   }
  },
  {
   "cell_type": "markdown",
   "source": [
    "# Problema # 3"
   ],
   "metadata": {
    "collapsed": false,
    "pycharm": {
     "name": "#%% md\n"
    }
   }
  },
  {
   "cell_type": "markdown",
   "source": [
    "Rogelio Sinán. (Novelista, ensayista, poeta y dramaturgo panameño), cuyo nombre civil es Bernardo Domínguez Alba. Nació en la isla de Taboga el 25 de abril de 1902 y murió el 7 de octubre de 1994. Cursó estudios superiores en Chile y Roma. Fue profesor universitario, académico de la lengua y diplomático. Como poeta, introdujo el vanguardismo en el país.\n",
    "\n",
    "Premio Ricardo Miró de novela, en 1943, con Plenilunio, premio Ricardo Miró de poesía, en 1949, con Semana Santa en la Niebla. Premio Ricardo Miró de novela,en 1977, con la Isla Mágica. En 1953 obtuvo el Premio Interamericano de Cuento, patrocinado por el diario mexicano “El Nacional”, con “La Boina Roja”.\n",
    "\n",
    "Además, es uno de los pocos panameños que en vida obtuvo las tres más altas condecoraciones que otorga el Gobierno de la República de Panamá: Vasco Núñez de Balboa; Manuel Amador Guerrero; Manuel José Hurtado.\n"
   ],
   "metadata": {
    "collapsed": false,
    "pycharm": {
     "name": "#%% md\n"
    }
   }
  },
  {
   "cell_type": "markdown",
   "source": [
    "![Rogelio_Sinan](imgs_prob/RogelioSinan.png)"
   ],
   "metadata": {
    "collapsed": false,
    "pycharm": {
     "name": "#%% md\n"
    }
   }
  },
  {
   "cell_type": "markdown",
   "source": [
    "#### taken from: Registro de la Biblioteca Nacional (Biografías\tPanameñas)"
   ],
   "metadata": {
    "collapsed": false,
    "pycharm": {
     "name": "#%% md\n"
    }
   }
  },
  {
   "cell_type": "markdown",
   "source": [
    "Uno de sus cuentos mas renombrados es \"A La Orilla De Las Estatuas Maduras\", el cual hemos encontrado en PDF en el Repositorio de la Biblioteca Nacional de Panamá3, fue pasado por un software de Optical Character Recognition (OCR) de baja calidad."
   ],
   "metadata": {
    "collapsed": false,
    "pycharm": {
     "name": "#%% md\n"
    }
   }
  },
  {
   "cell_type": "markdown",
   "source": [
    "Utilizando el archivo problema3cuento.txt, usted debe crear las expresiones regulares para identificar los siguientes errores comunes y a limpiar el texto utilizando sed y redirecciones a archivos de salida."
   ],
   "metadata": {
    "collapsed": false,
    "pycharm": {
     "name": "#%% md\n"
    }
   }
  },
  {
   "cell_type": "markdown",
   "source": [
    "| Tipo de Error en el texto original | Accion en el nuevo texto |\n",
    "| :-: | :-: |\n",
    "|El número de páginas del formato original, estos números puede encontrarse al inicio o al final del texto. | Eliminar del nuevo texto |\n",
    "|Por la forma de edición del texto y el espacio en los márgenes existen errores cortes naturales en las palabras, algunas palabras quedan cortadas con guion, por ejemplo “ca-rreta”.|Debe leerse “carreta”.|\n",
    "|Luego de pasar por OCR algunos caracteres no terminan de distinguirse, por ejemplo, los caracteres de puntuación quedan en este formato “Sí,e..”, sin atender al espacio después de la coma. Verifique si existe el espacio, sino existe se debe corregir.|Debe leerse “Si, e…”.|\n",
    "|Como el texto del cuento fue extraído del libro “La Boina Roja” del autor, y la versión tenía ciertas particularidades en la edición de páginas y contra páginas, algunas veces en el encabezado del párrafo puede aparecen la frase “L A B 0 1 N A R O J A” o “R O G E L1O S 1 N A N”, que por su disposición en el texto no fueron capturados por el OCR.|Eliminar del nuevo texto.|\n",
    "|Líneas vacías entre párrafos |Eliminar del nuevo texto.|\n",
    "|Títulos en LETRAS MAYÚSCULAS que indican el inicio de una sección del cuento|Mantener en el nuevo texto|"
   ],
   "metadata": {
    "collapsed": false,
    "pycharm": {
     "name": "#%% md\n"
    }
   }
  },
  {
   "cell_type": "markdown",
   "source": [
    "### Para cada error arriba listado usted debe:"
   ],
   "metadata": {
    "collapsed": false,
    "pycharm": {
     "name": "#%% md\n"
    }
   }
  },
  {
   "cell_type": "markdown",
   "source": [
    "*Realizar los filtrados a través de una seria de comandos que verifiquen la expresión regular corriéndola sobre el texto con el módulo re de Python. Haga una Captura de pantalla de los comandos y los resultados."
   ],
   "metadata": {
    "collapsed": false,
    "pycharm": {
     "name": "#%% md\n"
    }
   }
  },
  {
   "cell_type": "markdown",
   "source": [
    "* Entregar su versión del archivo del cuento en su versión más depurada en PDF, utilizando PyFPDF (https://pyfpdf.readthedocs.io/en/latest/) o algún modulo/paquete similar"
   ],
   "metadata": {
    "collapsed": false,
    "pycharm": {
     "name": "#%% md\n"
    }
   }
  },
  {
   "cell_type": "markdown",
   "source": [
    "***\n",
    "### -----*correccion*-------------\n",
    "si tienes problemas de instalacion intenta:\n",
    "`pip3 install fpdf`\n",
    "<a href=\"https://pypi.org/project/fpdf/\" target=\"_blank\">https://pypi.org/project/fpdf/ words</a>\n",
    "***"
   ],
   "metadata": {
    "collapsed": false,
    "pycharm": {
     "name": "#%% md\n"
    }
   }
  },
  {
   "cell_type": "markdown",
   "source": [
    "***\n",
    "Sugerencia: verificar el uso de Expresiones Regulares con Python acá:\n",
    "<a href=\"https://docs.python.org/3/library/re.html\" target=\"_blank\">https://docs.python.org/3/library/re.html</a>\n",
    "***"
   ],
   "metadata": {
    "collapsed": false,
    "pycharm": {
     "name": "#%% md\n"
    }
   }
  },
  {
   "cell_type": "markdown",
   "source": [
    "<a href=\"http://binal.ac.pa/binal/\" target=\"_blank\">http://binal.ac.pa/binal/</a>"
   ],
   "metadata": {
    "collapsed": false,
    "pycharm": {
     "name": "#%% md\n"
    }
   }
  },
  {
   "cell_type": "code",
   "execution_count": null,
   "outputs": [],
   "source": [
    "print(\"code\")"
   ],
   "metadata": {
    "collapsed": false,
    "pycharm": {
     "name": "#%%\n"
    }
   }
  },
  {
   "cell_type": "markdown",
   "source": [
    "# Problema # 4"
   ],
   "metadata": {
    "collapsed": false,
    "pycharm": {
     "name": "#%% md\n"
    }
   }
  },
  {
   "cell_type": "markdown",
   "source": [
    "Si tenemos dos puntos en el plano cartesiano (x, y), que están ubicados en (x1, y1) y (x2, y2), la distancia euclidiana entre ellos se define como la diferencia al cuadrado de los puntos, como:"
   ],
   "metadata": {
    "collapsed": false,
    "pycharm": {
     "name": "#%% md\n"
    }
   }
  },
  {
   "cell_type": "markdown",
   "source": [
    "\n",
    "![euclidean-distance](imgs_prob/euclidean-distance.png)"
   ],
   "metadata": {
    "collapsed": false,
    "pycharm": {
     "name": "#%% md\n"
    }
   }
  },
  {
   "cell_type": "markdown",
   "source": [
    "Tenga en cuenta que podría pensar en esta distancia euclidiana como la longitud de la hipotenusa en un triángulo rectángulo, donde el primer punto es (0,0) y para el segundo punto x2 e y2 representan las longitudes de los dos lados que no son hipotenusa."
   ],
   "metadata": {
    "collapsed": false,
    "pycharm": {
     "name": "#%% md\n"
    }
   }
  },
  {
   "cell_type": "markdown",
   "source": [
    "Escriba un guion llamado *Euclidean.py*. Este script debería tener una función llamada *euclideanDistance*(x1, y1, x2, y2) que tome como 4 argumentos los valores flotantes de x1; y1; x2; y2 que devuelve como valor numérico la distancia euclidiana entre los dos puntos representados."
   ],
   "metadata": {
    "collapsed": false,
    "pycharm": {
     "name": "#%% md\n"
    }
   }
  },
  {
   "cell_type": "markdown",
   "source": [
    "En la parte principal de su secuencia de comandos, debe leer un archivo llamado *euclid.csv*, un archivo de valores separados por comas que contiene valores para X e Y. Debería poder leer cada línea en una lista y calcular la distancia euclidiana para cada fila usando la distancia euclidiana función e imprime el valor de salida con 2 decimales.\n"
   ],
   "metadata": {
    "collapsed": false,
    "pycharm": {
     "name": "#%% md\n"
    }
   }
  },
  {
   "cell_type": "markdown",
   "source": [
    "Luego de procesar el archivo euclid.csv, adapte su función a una que se llame *euclideanDistance2*(x1, y1, x2, y2), que pueda calcular la distancia euclidiana entre la serie I-II y III-IV del archivo *anscombe.json*, que se encuentra en la carpeta *sample_data* de su *Google colab*."
   ],
   "metadata": {
    "collapsed": false,
    "pycharm": {
     "name": "#%% md\n"
    }
   }
  },
  {
   "cell_type": "code",
   "execution_count": 90,
   "outputs": [
    {
     "name": "stdout",
     "output_type": "stream",
     "text": [
      "| 0.70 | 7.00 | 6.00 | 8.00 | 6.61 |\n",
      "| 0.60 | 5.00 | 9.00 | 6.00 | 5.33 |\n",
      "| 0.00 | 3.00 | 0.00 | 0.00 | 3.00 |\n",
      "| 0.40 | 2.00 | 4.00 | 9.00 | 5.25 |\n",
      "| 0.90 | 1.00 | 2.00 | 5.00 | 3.00 |\n",
      "| 0.30 | 5.00 | 2.00 | 6.00 | 6.17 |\n",
      "| 0.70 | 6.00 | 2.00 | 2.00 | 5.30 |\n",
      "| 0.10 | 9.00 | 6.00 | 0.00 | 10.73 |\n",
      "| 0.30 | 8.00 | 0.00 | 4.00 | 8.68 |\n",
      "| 0.00 | 3.00 | 7.00 | 8.00 | 3.16 |\n",
      "| 0.40 | 4.00 | 7.00 | 9.00 | 4.12 |\n",
      "| 0.30 | 3.00 | 8.00 | 9.00 | 2.88 |\n",
      "| 0.00 | 5.00 | 2.00 | 5.00 | 5.83 |\n",
      "| 1.00 | 0.00 | 8.00 | 0.00 | 8.06 |\n",
      "| 0.50 | 6.00 | 4.00 | 4.00 | 5.50 |\n",
      "| 0.00 | 0.00 | 0.00 | 7.00 | 7.00 |\n",
      "| 0.80 | 10.00 | 0.00 | 4.00 | 10.03 |\n",
      "| 0.60 | 4.00 | 1.00 | 0.00 | 3.54 |\n",
      "| 0.80 | 6.00 | 6.00 | 1.00 | 7.21 |\n",
      "| 0.70 | 8.00 | 4.00 | 2.00 | 7.57 |\n",
      "| 0.90 | 0.00 | 9.00 | 10.00 | 1.35 |\n",
      "| 0.20 | 6.00 | 2.00 | 8.00 | 8.35 |\n",
      "| 0.10 | 10.00 | 6.00 | 10.00 | 10.68 |\n",
      "| 0.60 | 7.00 | 7.00 | 7.00 | 6.40 |\n",
      "| 0.20 | 4.00 | 4.00 | 5.00 | 3.93 |\n",
      "| 0.10 | 4.00 | 8.00 | 1.00 | 8.01 |\n",
      "| 0.00 | 7.00 | 5.00 | 1.00 | 8.06 |\n",
      "| 0.40 | 7.00 | 5.00 | 0.00 | 8.28 |\n",
      "| 0.10 | 6.00 | 10.00 | 8.00 | 6.23 |\n",
      "| 0.40 | 7.00 | 7.00 | 9.00 | 6.90 |\n",
      "| 0.50 | 7.00 | 2.00 | 8.00 | 8.85 |\n",
      "| 0.60 | 8.00 | 1.00 | 9.00 | 10.90 |\n",
      "| 0.50 | 1.00 | 2.00 | 4.00 | 2.06 |\n",
      "| 0.70 | 9.00 | 5.00 | 2.00 | 8.83 |\n",
      "| 0.60 | 1.00 | 10.00 | 6.00 | 4.02 |\n",
      "| 0.90 | 4.00 | 2.00 | 0.00 | 3.69 |\n",
      "| 0.70 | 10.00 | 3.00 | 7.00 | 10.12 |\n",
      "| 0.90 | 8.00 | 7.00 | 3.00 | 8.15 |\n",
      "| 0.20 | 3.00 | 0.00 | 5.00 | 5.73 |\n",
      "| 0.70 | 10.00 | 5.00 | 10.00 | 10.56 |\n",
      "| 0.90 | 2.00 | 8.00 | 10.00 | 2.28 |\n",
      "| 0.50 | 0.00 | 1.00 | 6.00 | 5.02 |\n",
      "| 1.00 | 0.00 | 3.00 | 7.00 | 4.12 |\n",
      "| 0.50 | 5.00 | 10.00 | 5.00 | 6.73 |\n",
      "| 0.40 | 9.00 | 8.00 | 0.00 | 11.75 |\n",
      "| 0.40 | 10.00 | 7.00 | 6.00 | 9.65 |\n",
      "| 0.30 | 7.00 | 0.00 | 2.00 | 6.99 |\n",
      "| 0.80 | 3.00 | 0.00 | 2.00 | 2.97 |\n",
      "| 0.10 | 10.00 | 3.00 | 7.00 | 10.68 |\n",
      "| 0.90 | 10.00 | 7.00 | 8.00 | 9.15 |\n",
      "| 0.90 | 10.00 | 1.00 | 1.00 | 9.10 |\n",
      "| 0.30 | 0.00 | 0.00 | 2.00 | 2.02 |\n",
      "| 0.40 | 0.00 | 3.00 | 5.00 | 2.04 |\n",
      "| 0.70 | 4.00 | 9.00 | 10.00 | 3.45 |\n",
      "| 0.30 | 1.00 | 4.00 | 5.00 | 1.22 |\n",
      "| 0.20 | 2.00 | 6.00 | 6.00 | 1.80 |\n",
      "| 0.30 | 10.00 | 8.00 | 5.00 | 10.15 |\n",
      "| 0.00 | 5.00 | 9.00 | 0.00 | 10.30 |\n",
      "| 0.80 | 2.00 | 4.00 | 2.00 | 2.33 |\n",
      "| 0.50 | 9.00 | 8.00 | 3.00 | 9.86 |\n",
      "| 0.60 | 7.00 | 2.00 | 2.00 | 6.40 |\n",
      "| 0.80 | 6.00 | 3.00 | 9.00 | 7.94 |\n",
      "| 0.90 | 3.00 | 3.00 | 10.00 | 7.31 |\n",
      "| 0.30 | 0.00 | 0.00 | 7.00 | 7.01 |\n",
      "| 0.30 | 2.00 | 7.00 | 3.00 | 4.35 |\n",
      "| 0.80 | 8.00 | 8.00 | 0.00 | 10.76 |\n",
      "| 0.80 | 1.00 | 3.00 | 10.00 | 7.00 |\n",
      "| 0.20 | 2.00 | 3.00 | 10.00 | 7.23 |\n",
      "| 0.30 | 9.00 | 5.00 | 6.00 | 8.76 |\n",
      "| 0.60 | 9.00 | 0.00 | 0.00 | 8.40 |\n",
      "| 0.00 | 7.00 | 8.00 | 5.00 | 7.62 |\n",
      "| 0.10 | 0.00 | 7.00 | 8.00 | 1.00 |\n",
      "| 0.00 | 5.00 | 1.00 | 7.00 | 7.81 |\n",
      "| 0.80 | 7.00 | 6.00 | 0.00 | 8.63 |\n",
      "| 0.90 | 5.00 | 8.00 | 3.00 | 6.47 |\n",
      "| 0.00 | 0.00 | 7.00 | 2.00 | 5.00 |\n",
      "| 0.80 | 4.00 | 6.00 | 3.00 | 4.39 |\n",
      "| 0.60 | 8.00 | 6.00 | 9.00 | 7.98 |\n",
      "| 0.60 | 1.00 | 9.00 | 0.00 | 9.01 |\n",
      "| 0.90 | 5.00 | 4.00 | 8.00 | 5.73 |\n",
      "| 0.00 | 4.00 | 2.00 | 1.00 | 4.12 |\n",
      "| 0.80 | 4.00 | 2.00 | 2.00 | 3.20 |\n",
      "| 0.00 | 1.00 | 7.00 | 6.00 | 1.41 |\n",
      "| 0.70 | 2.00 | 0.00 | 10.00 | 10.08 |\n",
      "| 0.90 | 8.00 | 6.00 | 0.00 | 9.30 |\n",
      "| 0.20 | 2.00 | 2.00 | 3.00 | 2.06 |\n",
      "| 0.20 | 8.00 | 4.00 | 10.00 | 9.84 |\n",
      "| 0.50 | 5.00 | 4.00 | 6.00 | 4.92 |\n",
      "| 0.50 | 10.00 | 8.00 | 3.00 | 10.74 |\n",
      "| 0.20 | 6.00 | 3.00 | 8.00 | 7.66 |\n",
      "| 1.00 | 2.00 | 9.00 | 2.00 | 7.07 |\n",
      "| 0.90 | 3.00 | 10.00 | 4.00 | 6.36 |\n",
      "| 0.30 | 7.00 | 7.00 | 3.00 | 7.80 |\n",
      "| 0.20 | 6.00 | 4.00 | 7.00 | 6.53 |\n",
      "| 1.00 | 10.00 | 3.00 | 9.00 | 10.82 |\n",
      "| 0.40 | 9.00 | 10.00 | 2.00 | 11.75 |\n",
      "| 0.80 | 5.00 | 7.00 | 4.00 | 5.16 |\n",
      "| 0.70 | 9.00 | 7.00 | 7.00 | 8.30 |\n",
      "| 0.30 | 3.00 | 2.00 | 5.00 | 4.04 |\n",
      "| 0.30 | 5.00 | 10.00 | 10.00 | 4.70 |\n"
     ]
    }
   ],
   "source": [
    "from pyFiles.Euclidean import euclideanDistance\n",
    "#from pyFiles.Euclidean import euclideanDistance\n",
    "import csv\n",
    "\n",
    "try:\n",
    "    euclid_csv = open(\"project-resources/euclid.csv\")\n",
    "    euclid_reader = csv.reader(euclid_csv)\n",
    "    euclid_list = []\n",
    "    n = 0\n",
    "    for row in euclid_reader:\n",
    "        if n == 0:\n",
    "            n = 1\n",
    "            continue\n",
    "        euclid_list.append(row)\n",
    "        n+=1\n",
    "\n",
    "    euclid_csv.close\n",
    "    \"\"\"Convert each value into float\"\"\"\n",
    "    for row in range(len(euclid_list)):\n",
    "        for col in range(len(euclid_list[row])):\n",
    "            euclid_list[row][col] = float(euclid_list[row][col])\n",
    "    #print(euclid_list)\n",
    "\n",
    "    #print(euclid_list)\n",
    "    for row in range(len(euclid_list)):\n",
    "        euclid_list[row].append(euclideanDistance(euclid_list[row][1],euclid_list[row][0],euclid_list[row][3],euclid_list[row][2]))\n",
    "\n",
    "    \"\"\"print the list with 2 decimal point accuracy \"\"\"\n",
    "    for row in euclid_list:\n",
    "        for col in row:\n",
    "            #print(\"{:.2f}\".format(col), end=\"\")\n",
    "            print(\"| {:.2f} \".format(col), end=\"\")\n",
    "        print(\"|\")\n",
    "\n",
    "except TypeError as t:\n",
    "    print(t)\n",
    "except Exception as e:\n",
    "    print(e)"
   ],
   "metadata": {
    "collapsed": false,
    "pycharm": {
     "name": "#%%\n"
    }
   }
  }
 ],
 "metadata": {
  "kernelspec": {
   "display_name": "Python 3",
   "language": "python",
   "name": "python3"
  },
  "language_info": {
   "codemirror_mode": {
    "name": "ipython",
    "version": 2
   },
   "file_extension": ".py",
   "mimetype": "text/x-python",
   "name": "python",
   "nbconvert_exporter": "python",
   "pygments_lexer": "ipython2",
   "version": "2.7.6"
  }
 },
 "nbformat": 4,
 "nbformat_minor": 0
}